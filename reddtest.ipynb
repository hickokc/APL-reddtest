{
 "cells": [
  {
   "cell_type": "code",
   "execution_count": 2,
   "metadata": {
    "collapsed": true
   },
   "outputs": [],
   "source": [
    "import time\n",
    "from bs4 import BeautifulSoup as bs\n",
    "import urllib2\n",
    "import re\n",
    "import datetime\n",
    "from apscheduler.schedulers.blocking import BlockingScheduler"
   ]
  },
  {
   "cell_type": "code",
   "execution_count": 59,
   "metadata": {
    "collapsed": false
   },
   "outputs": [],
   "source": [
    "url=\"https://www.reddit.com/r/all\"\n",
    "page = urllib2.urlopen(url)\n",
    "timestamp = time.strftime('%H:%M:%S')\n",
    "data = page.read()\n",
    "day = (time.strftime('%m/%d/%y'))\n",
    "soup = bs(data, 'html.parser')\n",
    "p = soup.find_all(\"a\")    "
   ]
  },
  {
   "cell_type": "code",
   "execution_count": 67,
   "metadata": {
    "collapsed": false
   },
   "outputs": [],
   "source": [
    "paragraphs = []\n",
    "for x in p:\n",
    "    paragraphs.append(str(x))  \n",
    "    \n",
    "views = []\n",
    "for line in paragraphs:\n",
    "    m = re.search('tabindex=\"1\">(.+?),', line)\n",
    "    if m:\n",
    "        found = m.group(1)\n",
    "        views.append(found)"
   ]
  },
  {
   "cell_type": "code",
   "execution_count": 69,
   "metadata": {
    "collapsed": false
   },
   "outputs": [
    {
     "data": {
      "text/plain": [
       "['No Wifi',\n",
       " 'Guy finds iguana out in the ocean',\n",
       " 'My little cousin wanted to be a road for Halloween']"
      ]
     },
     "execution_count": 69,
     "metadata": {},
     "output_type": "execute_result"
    }
   ],
   "source": [
    "views"
   ]
  },
  {
   "cell_type": "code",
   "execution_count": null,
   "metadata": {
    "collapsed": true
   },
   "outputs": [],
   "source": [
    "#Progress! These are portions of some titles of posts on the front page of reddit.com. \n",
    "\n",
    "#I would like to index the titles, URLs, and other useful and available information (score? comment count? Author?)\n",
    "\n",
    "#I need to find a way to catalog data of this type. Some posts will last longer than others, \n",
    "#they can't be compared directly by the same metrics."
   ]
  }
 ],
 "metadata": {
  "kernelspec": {
   "display_name": "Python 2",
   "language": "python",
   "name": "python2"
  },
  "language_info": {
   "codemirror_mode": {
    "name": "ipython",
    "version": 2
   },
   "file_extension": ".py",
   "mimetype": "text/x-python",
   "name": "python",
   "nbconvert_exporter": "python",
   "pygments_lexer": "ipython2",
   "version": "2.7.13"
  }
 },
 "nbformat": 4,
 "nbformat_minor": 2
}
